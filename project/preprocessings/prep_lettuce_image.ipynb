{
 "cells": [
  {
   "cell_type": "code",
   "execution_count": 31,
   "metadata": {},
   "outputs": [],
   "source": [
    "import os\n",
    "import pandas as pd\n",
    "import numpy as np\n",
    "import cv2\n",
    "import matplotlib.pyplot as plt\n",
    "%matplotlib inline"
   ]
  },
  {
   "cell_type": "code",
   "execution_count": 32,
   "metadata": {},
   "outputs": [],
   "source": [
    "def set_folder_path(input_folder):\n",
    "    if 11<= input_folder <=17:\n",
    "        input_folder_path = rf\"../dataset/raw_data/lettuce/images/training/{input_folder}\"\n",
    "        output_folder_path = rf\"../dataset/prep_data/lettuce/images/training/{input_folder}\"\n",
    "    elif 18<= input_folder <=20:\n",
    "        input_folder_path = rf\"../dataset/raw_data/lettuce/images/validation/{input_folder}\"\n",
    "        output_folder_path = rf\"../dataset/prep_data/lettuce/images/validation/{input_folder}\"\n",
    "    else:\n",
    "        input_folder_path = rf\"../dataset/practice/before\"\n",
    "        output_folder_path = rf\"../dataset/practice/after\"\n",
    "\n",
    "    if input_folder == 11:\n",
    "        vegetableTotalDays = 37\n",
    "    elif input_folder == 12:\n",
    "        vegetableTotalDays = 58\n",
    "    elif input_folder == 13:\n",
    "        vegetableTotalDays = 57\n",
    "    elif input_folder == 14:\n",
    "        vegetableTotalDays = 54\n",
    "    elif input_folder == 15:\n",
    "        vegetableTotalDays = 56\n",
    "    elif input_folder == 16:\n",
    "        vegetableTotalDays = 58\n",
    "    elif input_folder == 17:\n",
    "        vegetableTotalDays = 56\n",
    "    elif input_folder == 18:\n",
    "        vegetableTotalDays = 58\n",
    "    elif input_folder == 19:\n",
    "        vegetableTotalDays = 58\n",
    "    elif input_folder == 20:\n",
    "        vegetableTotalDays = 56\n",
    "    else:\n",
    "        vegetableTotalDays = 0\n",
    "\n",
    "    return input_folder_path, output_folder_path, vegetableTotalDays"
   ]
  },
  {
   "cell_type": "code",
   "execution_count": 33,
   "metadata": {},
   "outputs": [],
   "source": [
    "def crop_image(img, left, right, top, bottom):\n",
    "    return img[top:-bottom, left:-right]\n",
    "\n",
    "def get_crop_coordinates(width, height):\n",
    "    if width == 3280 and height == 2464:\n",
    "        return 440, 440, 32, 32\n",
    "    elif width == 3000 and height == 4000:\n",
    "        return 300, 300, 800, 800\n",
    "    elif width == 4000 and height == 3000:\n",
    "        return 800, 800, 300, 300\n",
    "    else:\n",
    "        raise ValueError(f\"Unsupported image size: {width} x {height}.\")\n",
    "\n",
    "def prep_images(input_file, ratio=0.33):\n",
    "    img = cv2.imread(input_file)\n",
    "\n",
    "    if img is None:\n",
    "        print(f\"Error: Unable to read the image at {input_file}\")\n",
    "        return\n",
    "\n",
    "    width, height = img.shape[1], img.shape[0]\n",
    "\n",
    "    left_margin, right_margin, top_margin, bottom_margin = get_crop_coordinates(width, height)\n",
    "    cropped_image = crop_image(img, left_margin, right_margin, top_margin, bottom_margin)\n",
    "\n",
    "    desired_width = 600\n",
    "    desired_height = 600\n",
    "    cropped_image = cv2.resize(cropped_image, (desired_width, desired_height))\n",
    "\n",
    "    img_hsv = cv2.cvtColor(cropped_image, cv2.COLOR_BGR2HSV)\n",
    "    green_Lower=np.array([35,50,50])\n",
    "    green_Upper=np.array([100,255,255])\n",
    "    red_Lower=np.array([0,50,50])\n",
    "    red_Upper=np.array([35,255,255])\n",
    "    img_mask_green=cv2.inRange(img_hsv,green_Lower,green_Upper)\n",
    "    img_mask_red=cv2.inRange(img_hsv,red_Lower,red_Upper)\n",
    "    contours_green, _ = cv2.findContours(img_mask_green, cv2.RETR_EXTERNAL, cv2.CHAIN_APPROX_SIMPLE)\n",
    "    contours_red, _ = cv2.findContours(img_mask_red, cv2.RETR_EXTERNAL, cv2.CHAIN_APPROX_SIMPLE)\n",
    "\n",
    "    mask_image = np.zeros_like(cropped_image)\n",
    "    cv2.drawContours(mask_image, contours_green, -1, (255, 255, 255), thickness=cv2.FILLED)\n",
    "    cv2.drawContours(mask_image, contours_red, -1, (255, 255, 255), thickness=cv2.FILLED)\n",
    "\n",
    "    # cropped_image_hsv = cv2.cvtColor(cropped_image, cv2.COLOR_BGR2HSV)\n",
    "    # threshold_value = 50\n",
    "    # _, saturation_mask = cv2.threshold(cropped_image_hsv[:, :, 1], threshold_value, 255, cv2.THRESH_BINARY)\n",
    "    # mask = np.zeros_like(cropped_image)\n",
    "    # mask[saturation_mask > 0] = [255, 255, 255]\n",
    "    # mask_image = cv2.bitwise_and(cropped_image, mask)\n",
    "\n",
    "    return mask_image"
   ]
  },
  {
   "cell_type": "code",
   "execution_count": 34,
   "metadata": {},
   "outputs": [],
   "source": [
    "def save_images(input_folder):\n",
    "\n",
    "    input_folder_path, output_folder_path, vegetableTotalDays = set_folder_path(input_folder)\n",
    "    input_files = [f for f in os.listdir(input_folder_path) if f.lower().endswith(('.png', '.jpg', '.jpeg'))]\n",
    "\n",
    "    for i, input_file in enumerate(input_files, start=1):\n",
    "        mask_image = prep_images(os.path.join(input_folder_path, input_file))\n",
    "\n",
    "        output_file = f\"{input_folder}_{vegetableTotalDays}_{i}.png\"\n",
    "        output_folder_path = rf\"../dataset/practice/after\"\n",
    "        output_file_path = os.path.join(output_folder_path, output_file)\n",
    "\n",
    "        gray_mask_image = cv2.cvtColor(mask_image, cv2.COLOR_BGR2GRAY)\n",
    "        cv2.imwrite(output_file_path, gray_mask_image)\n",
    "\n",
    "        # hsv_mask_image = cv2.cvtColor(mask_image, cv2.COLOR_BGR2HSV)\n",
    "        # cv2.imwrite(output_file_path, hsv_mask_image)\n"
   ]
  },
  {
   "cell_type": "code",
   "execution_count": 35,
   "metadata": {},
   "outputs": [
    {
     "name": "stdout",
     "output_type": "stream",
     "text": [
      "11\n",
      "12\n",
      "13\n",
      "14\n",
      "15\n",
      "16\n",
      "17\n",
      "18\n",
      "19\n",
      "20\n"
     ]
    }
   ],
   "source": [
    "for input_folder in range(11, 21):\n",
    "    print(input_folder)\n",
    "    save_images(input_folder)\n",
    "\n",
    "# save_images(24)"
   ]
  }
 ],
 "metadata": {
  "kernelspec": {
   "display_name": "PyTorch_practice1",
   "language": "python",
   "name": "pytorch_practice1"
  },
  "language_info": {
   "codemirror_mode": {
    "name": "ipython",
    "version": 3
   },
   "file_extension": ".py",
   "mimetype": "text/x-python",
   "name": "python",
   "nbconvert_exporter": "python",
   "pygments_lexer": "ipython3",
   "version": "3.11.6"
  }
 },
 "nbformat": 4,
 "nbformat_minor": 2
}
