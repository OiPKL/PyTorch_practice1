{
 "cells": [
  {
   "cell_type": "code",
   "execution_count": 1,
   "metadata": {},
   "outputs": [],
   "source": [
    "import pandas as pd\n",
    "\n",
    "# 파일 경로\n",
    "file_path = \"../dataset/practice/before/11_37.csv\"\n",
    "\n",
    "# 파일 읽기\n",
    "df = pd.read_csv(file_path)\n",
    "\n",
    "# vegetableGrowth_next_{i}day 칼럼 추가\n",
    "for i in range(1, 15):\n",
    "    # 현재 날짜를 기준으로 shift하고 NaN 값은 0으로 채우기\n",
    "    df[f'Next_{i}day'] = df['Growth'].shift(-i * 144).fillna(0)\n",
    "\n",
    "# # 수정된 내용 저장\n",
    "# output_file_path = \"../dataset/practice/before/after.csv\"\n",
    "# df.to_csv(output_file_path, index=False)"
   ]
  },
  {
   "cell_type": "code",
   "execution_count": 2,
   "metadata": {},
   "outputs": [
    {
     "name": "stdout",
     "output_type": "stream",
     "text": [
      "   index       Temp         CO2      Humid  Light  Growth  Next_1day  \\\n",
      "0      1  21.885714  468.428571  46.357143    0.0     0.0        0.0   \n",
      "1      2  21.857142  468.428571  46.700000    0.0     0.0        0.0   \n",
      "2      3  21.828571  469.857143  46.400000    0.0     0.0        0.0   \n",
      "3      4  21.771428  470.428571  46.357144    0.0     0.0        0.0   \n",
      "4      5  21.671429  471.857143  46.571429    0.0     0.0        0.0   \n",
      "\n",
      "   Next_2day  Next_3day  Next_4day   Next_5day   Next_6day   Next_7day  \\\n",
      "0   6.727876  21.167580  62.897809  105.257873  148.729831  227.033159   \n",
      "1   6.847613  21.259105  63.226441  105.674674  148.929337  227.804194   \n",
      "2   6.956122  21.345444  63.252495  106.070762  149.479534  228.505159   \n",
      "3   7.075419  21.455879  63.761593  106.632868  149.739356  229.255054   \n",
      "4   7.176180  21.536989  64.208381  107.000432  150.280192  229.666597   \n",
      "\n",
      "    Next_8day   Next_9day  Next_10day  Next_11day  Next_12day  Next_13day  \\\n",
      "0  311.015409  398.357918  524.389311  657.742284  792.121532  973.030133   \n",
      "1  311.826252  399.022915  525.096270  658.855805  793.077413  974.549782   \n",
      "2  312.401046  399.665390  525.969150  659.771670  793.924150  976.324669   \n",
      "3  313.184120  400.221210  526.677231  660.872899  794.870259  977.616141   \n",
      "4  313.659308  401.058323  527.564485  661.782929  795.879989  978.817254   \n",
      "\n",
      "    Next_14day  \n",
      "0  1175.308097  \n",
      "1  1177.034693  \n",
      "2  1177.999948  \n",
      "3  1179.688974  \n",
      "4  1181.304582  \n"
     ]
    }
   ],
   "source": [
    "print(df.head())"
   ]
  },
  {
   "cell_type": "code",
   "execution_count": 3,
   "metadata": {},
   "outputs": [
    {
     "name": "stdout",
     "output_type": "stream",
     "text": [
      "      index       Temp         CO2      Humid       Light       Growth  \\\n",
      "5323   5324  24.971428  483.142857  44.971429  385.838200  6099.304231   \n",
      "5324   5325  25.071429  482.142857  44.557144  385.838200  6100.118484   \n",
      "5325   5326  25.300000  483.285714  44.285714  387.915343  6101.313431   \n",
      "5326   5327  25.185714  485.142857  44.114286  389.059500  6102.468658   \n",
      "5327   5328  25.314286  485.000000  42.714286  389.059500  6103.292388   \n",
      "\n",
      "      Next_1day  Next_2day  Next_3day  Next_4day  Next_5day  Next_6day  \\\n",
      "5323        0.0        0.0        0.0        0.0        0.0        0.0   \n",
      "5324        0.0        0.0        0.0        0.0        0.0        0.0   \n",
      "5325        0.0        0.0        0.0        0.0        0.0        0.0   \n",
      "5326        0.0        0.0        0.0        0.0        0.0        0.0   \n",
      "5327        0.0        0.0        0.0        0.0        0.0        0.0   \n",
      "\n",
      "      Next_7day  Next_8day  Next_9day  Next_10day  Next_11day  Next_12day  \\\n",
      "5323        0.0        0.0        0.0         0.0         0.0         0.0   \n",
      "5324        0.0        0.0        0.0         0.0         0.0         0.0   \n",
      "5325        0.0        0.0        0.0         0.0         0.0         0.0   \n",
      "5326        0.0        0.0        0.0         0.0         0.0         0.0   \n",
      "5327        0.0        0.0        0.0         0.0         0.0         0.0   \n",
      "\n",
      "      Next_13day  Next_14day  \n",
      "5323         0.0         0.0  \n",
      "5324         0.0         0.0  \n",
      "5325         0.0         0.0  \n",
      "5326         0.0         0.0  \n",
      "5327         0.0         0.0  \n"
     ]
    }
   ],
   "source": [
    "print(df.tail())"
   ]
  }
 ],
 "metadata": {
  "kernelspec": {
   "display_name": "PyTorch_practice1",
   "language": "python",
   "name": "pytorch_practice1"
  },
  "language_info": {
   "codemirror_mode": {
    "name": "ipython",
    "version": 3
   },
   "file_extension": ".py",
   "mimetype": "text/x-python",
   "name": "python",
   "nbconvert_exporter": "python",
   "pygments_lexer": "ipython3",
   "version": "3.11.6"
  }
 },
 "nbformat": 4,
 "nbformat_minor": 2
}
