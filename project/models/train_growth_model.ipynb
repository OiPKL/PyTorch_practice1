{
 "cells": [
  {
   "cell_type": "code",
   "execution_count": 10,
   "metadata": {},
   "outputs": [
    {
     "name": "stdout",
     "output_type": "stream",
     "text": [
      "Selected device: cuda\n"
     ]
    }
   ],
   "source": [
    "import numpy as np\n",
    "import random\n",
    "import os\n",
    "\n",
    "from glob import glob\n",
    "import pandas as pd\n",
    "import cv2\n",
    "import matplotlib.pyplot as plt\n",
    "%matplotlib inline\n",
    "from tqdm.auto import tqdm\n",
    "\n",
    "import torch\n",
    "import torch.nn as nn\n",
    "import torch.nn.functional as F\n",
    "from torch.optim.lr_scheduler import StepLR\n",
    "from torch.utils.data import DataLoader, Dataset\n",
    "from torchviz import make_dot\n",
    "import torchvision.models as models\n",
    "from torchvision import transforms\n",
    "\n",
    "from sklearn.metrics import mean_absolute_error\n",
    "from sklearn.metrics import accuracy_score\n",
    "\n",
    "device = torch.device(\"cuda\" if torch.cuda.is_available() else \"cpu\")\n",
    "print(f\"Selected device: {device}\")"
   ]
  },
  {
   "cell_type": "code",
   "execution_count": 11,
   "metadata": {},
   "outputs": [],
   "source": [
    "CFG = {\n",
    "    'IMG_SIZE': 320,\n",
    "    'EPOCHS': 10,\n",
    "    'LEARNING_RATE': 0.01,\n",
    "    'BATCH_SIZE': 64,\n",
    "    'SEED': 41\n",
    "}\n",
    "\n",
    "def seed_everything(seed):\n",
    "    random.seed(seed)\n",
    "    os.environ['PYTHONHASHSEED'] = str(seed)\n",
    "    np.random.seed(seed)\n",
    "    torch.manual_seed(seed)\n",
    "    torch.cuda.manual_seed(seed)\n",
    "    torch.backends.cudnn.deterministic = True\n",
    "    torch.backends.cudnn.benchmark = True\n",
    "\n",
    "seed_everything(CFG['SEED'])"
   ]
  },
  {
   "cell_type": "code",
   "execution_count": 12,
   "metadata": {},
   "outputs": [
    {
     "name": "stdout",
     "output_type": "stream",
     "text": [
      "\n",
      "X_train Length: 425\n",
      "y_train Length: 425\n",
      "\n",
      "X_test Length: 7\n",
      "y_test Length: 7\n"
     ]
    }
   ],
   "source": [
    "training_data_folder = rf\"../dataset/prep_data/lettuce/images/training\"\n",
    "test_data_folder = rf\"../dataset/prep_data/lettuce/images/validation\"\n",
    "\n",
    "X_train = []\n",
    "y_train = []\n",
    "\n",
    "for filename in os.listdir(training_data_folder):\n",
    "    if filename.endswith(\".png\"):\n",
    "        name, totalDays, vegetableAge = filename.split(\"_\")\n",
    "        totalDays = int(totalDays)\n",
    "        vegetableAge = int(vegetableAge.split(\".\")[0])\n",
    "\n",
    "        if vegetableAge <= totalDays // 4:\n",
    "            label = 1\n",
    "        elif vegetableAge <= 2 * totalDays // 4:\n",
    "            label = 2\n",
    "        elif vegetableAge <= 3 * totalDays // 4:\n",
    "            label = 3\n",
    "        else:\n",
    "            label = 4\n",
    "\n",
    "        image_path = os.path.join(training_data_folder, filename)\n",
    "        X_train.append(image_path)\n",
    "        y_train.append(label)\n",
    "\n",
    "X_test = []\n",
    "y_test = []\n",
    "\n",
    "for filename in os.listdir(test_data_folder):\n",
    "    if filename.endswith(\".png\"):\n",
    "        name, totalDays, vegetableAge = filename.split(\"_\")\n",
    "        totalDays = int(totalDays)\n",
    "        vegetableAge = int(vegetableAge.split(\".\")[0])\n",
    "\n",
    "        if vegetableAge <= totalDays // 4:\n",
    "            label = 1\n",
    "        elif vegetableAge <= 2 * totalDays // 4:\n",
    "            label = 2\n",
    "        elif vegetableAge <= 3 * totalDays // 4:\n",
    "            label = 3\n",
    "        else:\n",
    "            label = 4\n",
    "\n",
    "        image_path = os.path.join(test_data_folder, filename)\n",
    "        X_test.append(image_path)\n",
    "        y_test.append(label)\n",
    "\n",
    "print(\"\\nX_train Length:\", len(X_train))\n",
    "print(\"y_train Length:\", len(y_train))\n",
    "print(\"\\nX_test Length:\", len(X_test))\n",
    "print(\"y_test Length:\", len(y_test))"
   ]
  },
  {
   "cell_type": "code",
   "execution_count": 13,
   "metadata": {},
   "outputs": [],
   "source": [
    "class CustomDataset(Dataset):\n",
    "    def __init__(self, img_path_list, label_list, train_mode=True, transforms=None):\n",
    "        self.transforms = transforms\n",
    "        self.train_mode = train_mode\n",
    "        self.img_path_list = img_path_list\n",
    "        self.label_list = label_list\n",
    "\n",
    "    def __getitem__(self, index):\n",
    "        img_path = self.img_path_list[index]\n",
    "        image = cv2.imread(img_path)\n",
    "\n",
    "        if self.transforms is not None:\n",
    "            image = self.transforms(image)\n",
    "\n",
    "        label = self.label_list[index]\n",
    "        return image, label\n",
    "    \n",
    "    def __len__(self):\n",
    "        return len(self.img_path_list)"
   ]
  },
  {
   "cell_type": "code",
   "execution_count": 14,
   "metadata": {},
   "outputs": [],
   "source": [
    "train_transform = transforms.Compose([\n",
    "    transforms.ToTensor(),\n",
    "    transforms.Resize((CFG['IMG_SIZE'], CFG['IMG_SIZE'])),\n",
    "    transforms.Normalize(mean=(0.5, 0.5, 0.5), std=(0.5, 0.5, 0.5))\n",
    "])\n",
    "\n",
    "test_transform = transforms.Compose([\n",
    "    transforms.ToTensor(),\n",
    "    transforms.Resize((CFG['IMG_SIZE'], CFG['IMG_SIZE'])),\n",
    "    transforms.Normalize(mean=(0.5, 0.5, 0.5), std=(0.5, 0.5, 0.5))\n",
    "])"
   ]
  },
  {
   "cell_type": "code",
   "execution_count": 15,
   "metadata": {},
   "outputs": [],
   "source": [
    "train_dataset = CustomDataset(X_train, y_train, train_mode=True, transforms=train_transform)\n",
    "train_loader = DataLoader(train_dataset, batch_size=CFG['BATCH_SIZE'], shuffle=True, num_workers=0)\n",
    "\n",
    "test_dataset = CustomDataset(X_test, y_test, train_mode=False, transforms=test_transform)\n",
    "test_loader = DataLoader(test_dataset, batch_size=CFG['BATCH_SIZE'], shuffle=False, num_workers=0)"
   ]
  },
  {
   "cell_type": "code",
   "execution_count": 16,
   "metadata": {},
   "outputs": [
    {
     "name": "stdout",
     "output_type": "stream",
     "text": [
      "train_model(\n",
      "  (features): Sequential(\n",
      "    (0): Conv2d(3, 8, kernel_size=(5, 5), stride=(1, 1), padding=(2, 2))\n",
      "    (1): ReLU(inplace=True)\n",
      "    (2): MaxPool2d(kernel_size=2, stride=2, padding=0, dilation=1, ceil_mode=False)\n",
      "    (3): Conv2d(8, 16, kernel_size=(5, 5), stride=(1, 1), padding=(2, 2))\n",
      "    (4): ReLU(inplace=True)\n",
      "    (5): MaxPool2d(kernel_size=2, stride=2, padding=0, dilation=1, ceil_mode=False)\n",
      "    (6): Conv2d(16, 32, kernel_size=(5, 5), stride=(1, 1), padding=(2, 2))\n",
      "    (7): ReLU(inplace=True)\n",
      "    (8): MaxPool2d(kernel_size=2, stride=2, padding=0, dilation=1, ceil_mode=False)\n",
      "    (9): Conv2d(32, 128, kernel_size=(5, 5), stride=(1, 1), padding=(2, 2))\n",
      "    (10): ReLU(inplace=True)\n",
      "    (11): AdaptiveAvgPool2d(output_size=(1, 1))\n",
      "  )\n",
      "  (classifier): Sequential(\n",
      "    (0): Flatten(start_dim=1, end_dim=-1)\n",
      "    (1): Linear(in_features=128, out_features=1, bias=True)\n",
      "  )\n",
      ")\n"
     ]
    }
   ],
   "source": [
    "class train_model(nn.Module):\n",
    "    def __init__(self, num_channels=128, final_output_size=(1, 1), num_classes=1):\n",
    "        super(train_model, self).__init__()\n",
    "        self.features = nn.Sequential(\n",
    "            nn.Conv2d(3, 8, kernel_size=5, stride=1, padding=2),\n",
    "            nn.ReLU(inplace=True),\n",
    "            nn.MaxPool2d(kernel_size=2, stride=2),\n",
    "            \n",
    "            nn.Conv2d(8, 16, kernel_size=5, stride=1, padding=2),\n",
    "            nn.ReLU(inplace=True),\n",
    "            nn.MaxPool2d(kernel_size=2, stride=2),\n",
    "            \n",
    "            nn.Conv2d(16, 32, kernel_size=5, stride=1, padding=2),\n",
    "            nn.ReLU(inplace=True),\n",
    "            nn.MaxPool2d(kernel_size=2, stride=2),\n",
    "            \n",
    "            nn.Conv2d(32, num_channels, kernel_size=5, stride=1, padding=2),\n",
    "            nn.ReLU(inplace=True),\n",
    "            nn.AdaptiveAvgPool2d(final_output_size),\n",
    "        )\n",
    "        \n",
    "        self.classifier = nn.Sequential(\n",
    "            nn.Flatten(),\n",
    "            nn.Linear(num_channels * final_output_size[0] * final_output_size[1], num_classes),\n",
    "        )\n",
    "\n",
    "    def forward(self, x):\n",
    "        x = self.features(x)\n",
    "        x = self.classifier(x)\n",
    "        return x\n",
    "\n",
    "# 모델 생성\n",
    "model = train_model(num_channels=128, final_output_size=(1, 1), num_classes=1)\n",
    "\n",
    "# 모델 출력 확인\n",
    "print(model)"
   ]
  },
  {
   "cell_type": "code",
   "execution_count": 17,
   "metadata": {},
   "outputs": [
    {
     "name": "stdout",
     "output_type": "stream",
     "text": [
      "----------------------------------------------------------------\n",
      "        Layer (type)               Output Shape         Param #\n",
      "================================================================\n",
      "            Conv2d-1          [-1, 8, 320, 320]             608\n",
      "              ReLU-2          [-1, 8, 320, 320]               0\n",
      "         MaxPool2d-3          [-1, 8, 160, 160]               0\n",
      "            Conv2d-4         [-1, 16, 160, 160]           3,216\n",
      "              ReLU-5         [-1, 16, 160, 160]               0\n",
      "         MaxPool2d-6           [-1, 16, 80, 80]               0\n",
      "            Conv2d-7           [-1, 32, 80, 80]          12,832\n",
      "              ReLU-8           [-1, 32, 80, 80]               0\n",
      "         MaxPool2d-9           [-1, 32, 40, 40]               0\n",
      "           Conv2d-10          [-1, 128, 40, 40]         102,528\n",
      "             ReLU-11          [-1, 128, 40, 40]               0\n",
      "AdaptiveAvgPool2d-12            [-1, 128, 1, 1]               0\n",
      "          Flatten-13                  [-1, 128]               0\n",
      "           Linear-14                    [-1, 1]             129\n",
      "================================================================\n",
      "Total params: 119,313\n",
      "Trainable params: 119,313\n",
      "Non-trainable params: 0\n",
      "----------------------------------------------------------------\n",
      "Input size (MB): 1.17\n",
      "Forward/backward pass size (MB): 27.74\n",
      "Params size (MB): 0.46\n",
      "Estimated Total Size (MB): 29.36\n",
      "----------------------------------------------------------------\n"
     ]
    }
   ],
   "source": [
    "import torch\n",
    "from torchsummary import summary\n",
    "\n",
    "device = torch.device(\"cuda\" if torch.cuda.is_available() else \"cpu\")\n",
    "model = train_model().to(device)\n",
    "summary(model, (3, 320, 320), device=device.type)"
   ]
  },
  {
   "cell_type": "code",
   "execution_count": 18,
   "metadata": {},
   "outputs": [],
   "source": [
    "# # original\n",
    "\n",
    "# class train_model(nn.Module):\n",
    "#     def __init__(self, num_classes=1):\n",
    "#         super(train_model, self).__init__()\n",
    "#         self.features = nn.Sequential(\n",
    "#             nn.Conv2d(3, 64, kernel_size=3, stride=1, padding=1),\n",
    "#             nn.ReLU(inplace=True),\n",
    "#             nn.MaxPool2d(kernel_size=2, stride=2),\n",
    "            \n",
    "#             nn.Conv2d(64, 128, kernel_size=3, stride=1, padding=1),\n",
    "#             nn.ReLU(inplace=True),\n",
    "#             nn.MaxPool2d(kernel_size=2, stride=2),\n",
    "            \n",
    "#             nn.Conv2d(128, 256, kernel_size=3, stride=1, padding=1),\n",
    "#             nn.ReLU(inplace=True),\n",
    "#             nn.MaxPool2d(kernel_size=2, stride=2),\n",
    "#         )\n",
    "#         self.avgpool = nn.AdaptiveAvgPool2d((7, 7))\n",
    "#         self.classifier = nn.Sequential(\n",
    "#             nn.Linear(256 * 7 * 7, 4096),\n",
    "#             nn.ReLU(True),\n",
    "#             nn.Dropout(),\n",
    "#             nn.Linear(4096, 4096),\n",
    "#             nn.ReLU(True),\n",
    "#             nn.Dropout(),\n",
    "#             nn.Linear(4096, num_classes),\n",
    "#         )\n",
    "\n",
    "#     def forward(self, x):\n",
    "#         x = self.features(x)\n",
    "#         x = self.avgpool(x)\n",
    "#         x = x.view(x.size(0), -1)\n",
    "#         x = self.classifier(x)\n",
    "#         return x"
   ]
  },
  {
   "cell_type": "code",
   "execution_count": 19,
   "metadata": {},
   "outputs": [],
   "source": [
    "# # original\n",
    "\n",
    "# import torch\n",
    "# from torchsummary import summary\n",
    "\n",
    "# device = torch.device(\"cuda\" if torch.cuda.is_available() else \"cpu\")\n",
    "# model = train_model().to(device)\n",
    "# summary(model, (3, 320, 320), device=device.type)"
   ]
  },
  {
   "cell_type": "code",
   "execution_count": 20,
   "metadata": {},
   "outputs": [],
   "source": [
    "# class train_model(nn.Module):\n",
    "#     def __init__(self):\n",
    "#         super(train_model, self).__init__()\n",
    "#         # Layer 1: Convolutional, BatchNorm, ReLU, MaxPooling\n",
    "#         self.layer1 = nn.Sequential(\n",
    "#             nn.Conv2d(3, 8, kernel_size=5, stride=1, padding=2),\n",
    "#             nn.BatchNorm2d(8),\n",
    "#             nn.ReLU(),\n",
    "#             nn.MaxPool2d(kernel_size=2, stride=2))\n",
    "\n",
    "#         # Layer 2: Convolutional, BatchNorm, ReLU, MaxPooling\n",
    "#         self.layer2 = nn.Sequential(\n",
    "#             nn.Conv2d(8, 16, kernel_size=5, stride=1, padding=2),\n",
    "#             nn.BatchNorm2d(16),\n",
    "#             nn.ReLU(),\n",
    "#             nn.MaxPool2d(kernel_size=2, stride=2))\n",
    "\n",
    "#         # Layer 3: Convolutional, BatchNorm, ReLU, MaxPooling\n",
    "#         self.layer3 = nn.Sequential(\n",
    "#             nn.Conv2d(16, 32, kernel_size=5, stride=1, padding=2),\n",
    "#             nn.BatchNorm2d(32),\n",
    "#             nn.ReLU(),\n",
    "#             nn.MaxPool2d(kernel_size=2, stride=2))\n",
    "\n",
    "#         # Layer 4: Convolutional, BatchNorm, ReLU, MaxPooling\n",
    "#         self.layer4 = nn.Sequential(\n",
    "#             nn.Conv2d(32, 64, kernel_size=5, stride=1, padding=2),\n",
    "#             nn.BatchNorm2d(64),\n",
    "#             nn.ReLU(),\n",
    "#             nn.MaxPool2d(kernel_size=2, stride=2))\n",
    "\n",
    "#         # Layer 5: Convolutional, BatchNorm, ReLU, MaxPooling\n",
    "#         self.layer5 = nn.Sequential(\n",
    "#             nn.Conv2d(64, 128, kernel_size=5, stride=1, padding=2),\n",
    "#             nn.BatchNorm2d(128),\n",
    "#             nn.ReLU(),\n",
    "#             nn.MaxPool2d(kernel_size=2, stride=2))\n",
    "\n",
    "#         # Layer 6: Convolutional, BatchNorm, ReLU, MaxPooling\n",
    "#         self.layer6 = nn.Sequential(\n",
    "#             nn.Conv2d(128, 256, kernel_size=5, stride=1, padding=2),\n",
    "#             nn.BatchNorm2d(256),\n",
    "#             nn.ReLU(),\n",
    "#             nn.MaxPool2d(kernel_size=2, stride=2))\n",
    "\n",
    "#         # Layer 7: Convolutional, BatchNorm, ReLU, MaxPooling\n",
    "#         self.layer7 = nn.Sequential(\n",
    "#             nn.Conv2d(256, 512, kernel_size=5, stride=1, padding=2),\n",
    "#             nn.BatchNorm2d(512),\n",
    "#             nn.ReLU(),\n",
    "#             nn.MaxPool2d(kernel_size=2, stride=2))\n",
    "        \n",
    "#         # Regressor Layer\n",
    "#         self.regressor = nn.Linear(512 * 2 * 2, 1)\n",
    "\n",
    "#     def forward(self, x):\n",
    "#         x = self.layer1(x)\n",
    "#         x = self.layer2(x)\n",
    "#         x = self.layer3(x)\n",
    "#         x = self.layer4(x)\n",
    "#         x = self.layer5(x)\n",
    "#         x = self.layer6(x)\n",
    "#         x = self.layer7(x)\n",
    "#         x = torch.flatten(x, start_dim=1)\n",
    "#         out = self.regressor(x)\n",
    "#         return out"
   ]
  },
  {
   "cell_type": "code",
   "execution_count": 21,
   "metadata": {},
   "outputs": [],
   "source": [
    "# import torch\n",
    "# from torchsummary import summary\n",
    "\n",
    "# device = torch.device(\"cuda\" if torch.cuda.is_available() else \"cpu\")\n",
    "# model = train_model().to(device)\n",
    "# summary(model, (3, 320, 320), device=device.type)"
   ]
  },
  {
   "cell_type": "code",
   "execution_count": 22,
   "metadata": {},
   "outputs": [
    {
     "data": {
      "text/plain": [
       "'simple_model_graph.png'"
      ]
     },
     "execution_count": 22,
     "metadata": {},
     "output_type": "execute_result"
    }
   ],
   "source": [
    "device = torch.device(\"cuda\" if torch.cuda.is_available() else \"cpu\")\n",
    "model = train_model().to(device)\n",
    "\n",
    "input_data = torch.randn((1, 3, 320, 320)).to(device)\n",
    "\n",
    "output = model(input_data)\n",
    "graph = make_dot(output, params=dict(model.named_parameters()))\n",
    "\n",
    "graph.render(\"simple_model_graph\", format=\"png\", cleanup=True)"
   ]
  },
  {
   "cell_type": "code",
   "execution_count": 23,
   "metadata": {},
   "outputs": [],
   "source": [
    "# def validation(model, train_loader, criterion, device):\n",
    "#     model.eval()\n",
    "#     vali_loss = []\n",
    "#     vali_label_list = []\n",
    "#     vali_pred_list = []\n",
    "\n",
    "#     with torch.no_grad():\n",
    "#         for img, label in tqdm(iter(train_loader)):\n",
    "#             img, label = img.float().to(device), label.float().to(device)\n",
    "\n",
    "#             logit = model(img)\n",
    "#             loss = criterion(logit.squeeze(1), label)\n",
    "            \n",
    "#             vali_loss.append(loss.item())\n",
    "\n",
    "#             vali_label_list.extend(label.cpu().numpy())\n",
    "#             vali_pred_list.extend(logit.squeeze(1).cpu().numpy())\n",
    "\n",
    "#     vali_mae_loss = np.mean(vali_loss)\n",
    "#     return vali_mae_loss"
   ]
  },
  {
   "cell_type": "code",
   "execution_count": 24,
   "metadata": {},
   "outputs": [],
   "source": [
    "def validation(model, dataloader, device):\n",
    "    threshold=0.5\n",
    "    model.eval()\n",
    "    y_true = []\n",
    "    y_pred = []\n",
    "\n",
    "    with torch.no_grad():\n",
    "        for inputs, labels in dataloader:\n",
    "            inputs, labels = inputs.to(device), labels.to(device)\n",
    "            outputs = model(inputs)\n",
    "\n",
    "            predictions = (outputs > threshold).float()\n",
    "            \n",
    "            y_true.extend(labels.cpu().numpy())\n",
    "            y_pred.extend(predictions.cpu().numpy())\n",
    "\n",
    "    accuracy = accuracy_score(y_true, y_pred)\n",
    "\n",
    "    return accuracy"
   ]
  },
  {
   "cell_type": "code",
   "execution_count": 25,
   "metadata": {},
   "outputs": [],
   "source": [
    "# def train(model, optimizer, train_loader, scheduler, device):\n",
    "#     model.to(device)\n",
    "\n",
    "#     criterion = nn.L1Loss().to(device)\n",
    "#     best_mae = 9999\n",
    "    \n",
    "#     for epoch in range(1, CFG[\"EPOCHS\"] + 1):\n",
    "#         model.train()\n",
    "#         train_loss = []\n",
    "#         for img, label in tqdm(iter(train_loader)):\n",
    "#             img, label = img.float().to(device), label.float().to(device)\n",
    "            \n",
    "#             optimizer.zero_grad()\n",
    "#             logit = model(img)\n",
    "#             loss = criterion(logit.squeeze(1), label)\n",
    "#             loss.backward()\n",
    "#             optimizer.step()\n",
    "\n",
    "#             train_loss.append(loss.item())\n",
    "\n",
    "#         if scheduler is not None:\n",
    "#             scheduler.step()\n",
    "\n",
    "#         vali_mae = validation(model, train_loader, criterion, device)\n",
    "#         print(f'Epoch [{epoch}] Train MAE : [{np.mean(train_loss):.5f}] Validation MAE : [{vali_mae:.5f}]\\n')\n",
    "\n",
    "#         if best_mae > vali_mae:\n",
    "#             best_mae = vali_mae\n",
    "#             os.makedirs('./saved', exist_ok=True)\n",
    "#             torch.save(model.state_dict(), './saved/best_model.pth')\n",
    "#             print('Model Saved.')"
   ]
  },
  {
   "cell_type": "code",
   "execution_count": 26,
   "metadata": {},
   "outputs": [],
   "source": [
    "def train(model, optimizer, train_loader, scheduler, device):\n",
    "    model.to(device)\n",
    "\n",
    "    criterion = nn.L1Loss().to(device)\n",
    "    best_accuracy = 0.0\n",
    "\n",
    "    train_losses = []\n",
    "    train_accuracies = []\n",
    "    \n",
    "    for epoch in range(1, CFG[\"EPOCHS\"] + 1):\n",
    "        model.train()\n",
    "        train_loss = []\n",
    "        y_true = []\n",
    "        y_pred = []\n",
    "\n",
    "        for img, label in tqdm(iter(train_loader)):\n",
    "            img, label = img.float().to(device), label.float().to(device)\n",
    "            \n",
    "            optimizer.zero_grad()\n",
    "            logit = model(img)\n",
    "            loss = criterion(logit.squeeze(1), label)\n",
    "            loss.backward()\n",
    "            optimizer.step()\n",
    "\n",
    "            train_loss.append(loss.item())\n",
    "\n",
    "            predictions = (logit > 0.5).float()\n",
    "            y_true.extend(label.cpu().numpy())\n",
    "            y_pred.extend(predictions.cpu().numpy())\n",
    "\n",
    "        if scheduler is not None:\n",
    "            scheduler.step()\n",
    "\n",
    "        accuracy = accuracy_score(y_true, y_pred)\n",
    "        print(f'Epoch [{epoch}] Train Loss: [{np.mean(train_loss):.5f}] Train Accuracy: [{accuracy:.5f}]\\n')\n",
    "\n",
    "        train_losses.append(np.mean(train_loss))\n",
    "        train_accuracies.append(accuracy)\n",
    "\n",
    "        if best_accuracy < accuracy:\n",
    "            best_accuracy = accuracy\n",
    "            os.makedirs('./saved', exist_ok=True)\n",
    "            torch.save(model.state_dict(), './saved/best_model.pth')\n",
    "            print('Model Saved.')\n",
    "\n",
    "    plt.figure(figsize=(10, 5))\n",
    "    plt.plot(train_losses, label='Train Loss')\n",
    "    plt.plot(train_accuracies, label='Train Accuracy', color='orange')\n",
    "    plt.title('Train Loss and Accuracy Over Epochs')\n",
    "    plt.xlabel('Epoch')\n",
    "    plt.ylabel('Loss/Accuracy')\n",
    "    plt.legend()\n",
    "    plt.show()"
   ]
  },
  {
   "cell_type": "code",
   "execution_count": 27,
   "metadata": {},
   "outputs": [],
   "source": [
    "# def evaluate(model, test_loader, device):\n",
    "#     model.eval()\n",
    "#     vali_label_list = []\n",
    "#     vali_pred_list = []\n",
    "\n",
    "#     with torch.no_grad():\n",
    "#         for img, label in tqdm(iter(test_loader)):\n",
    "#             img, label = img.float().to(device), label.float().to(device)\n",
    "#             logit = model(img)\n",
    "#             vali_label_list.extend(label.cpu().numpy())\n",
    "#             vali_pred_list.extend(logit.squeeze(1).detach().cpu().numpy())\n",
    "\n",
    "#     vali_mae = mean_absolute_error(vali_label_list, vali_pred_list)\n",
    "#     print(f\"Test MAE: {vali_mae:.5f}\")"
   ]
  },
  {
   "cell_type": "code",
   "execution_count": 28,
   "metadata": {},
   "outputs": [],
   "source": [
    "def evaluate(model, test_loader, device):\n",
    "    threshold = 0.5\n",
    "    model.eval()\n",
    "    y_true = []\n",
    "    y_pred = []\n",
    "\n",
    "    with torch.no_grad():\n",
    "        for inputs, labels in test_loader:\n",
    "            inputs, labels = inputs.to(device), labels.to(device)\n",
    "            outputs = model(inputs)\n",
    "\n",
    "            predictions = (outputs > threshold).float()\n",
    "            \n",
    "            y_true.extend(labels.cpu().numpy())\n",
    "            y_pred.extend(predictions.cpu().numpy())\n",
    "\n",
    "    accuracy = accuracy_score(y_true, y_pred)\n",
    "\n",
    "    return accuracy"
   ]
  },
  {
   "cell_type": "code",
   "execution_count": 29,
   "metadata": {},
   "outputs": [
    {
     "data": {
      "application/vnd.jupyter.widget-view+json": {
       "model_id": "37f13ec776f940a0b77eda7889e9b7f4",
       "version_major": 2,
       "version_minor": 0
      },
      "text/plain": [
       "  0%|          | 0/7 [00:00<?, ?it/s]"
      ]
     },
     "metadata": {},
     "output_type": "display_data"
    },
    {
     "name": "stderr",
     "output_type": "stream",
     "text": [
      "c:\\Users\\dhksw\\Documents\\work\\PyTorch_practice1\\Lib\\site-packages\\torchvision\\transforms\\functional.py:1603: UserWarning: The default value of the antialias parameter of all the resizing transforms (Resize(), RandomResizedCrop(), etc.) will change from None to True in v0.17, in order to be consistent across the PIL and Tensor backends. To suppress this warning, directly pass antialias=True (recommended, future default), antialias=None (current default, which means False for Tensors and True for PIL), or antialias=False (only works on Tensors - PIL will still use antialiasing). This also applies if you are using the inference transforms from the models weights: update the call to weights.transforms(antialias=True).\n",
      "  warnings.warn(\n"
     ]
    },
    {
     "name": "stdout",
     "output_type": "stream",
     "text": [
      "Epoch [1] Train Loss: [2.53970] Train Accuracy: [0.00000]\n",
      "\n"
     ]
    },
    {
     "data": {
      "application/vnd.jupyter.widget-view+json": {
       "model_id": "d775c555f27d46859474190e9cf572b8",
       "version_major": 2,
       "version_minor": 0
      },
      "text/plain": [
       "  0%|          | 0/7 [00:00<?, ?it/s]"
      ]
     },
     "metadata": {},
     "output_type": "display_data"
    },
    {
     "name": "stderr",
     "output_type": "stream",
     "text": [
      "c:\\Users\\dhksw\\Documents\\work\\PyTorch_practice1\\Lib\\site-packages\\torchvision\\transforms\\functional.py:1603: UserWarning: The default value of the antialias parameter of all the resizing transforms (Resize(), RandomResizedCrop(), etc.) will change from None to True in v0.17, in order to be consistent across the PIL and Tensor backends. To suppress this warning, directly pass antialias=True (recommended, future default), antialias=None (current default, which means False for Tensors and True for PIL), or antialias=False (only works on Tensors - PIL will still use antialiasing). This also applies if you are using the inference transforms from the models weights: update the call to weights.transforms(antialias=True).\n",
      "  warnings.warn(\n"
     ]
    },
    {
     "name": "stdout",
     "output_type": "stream",
     "text": [
      "Epoch [2] Train Loss: [2.39687] Train Accuracy: [0.00000]\n",
      "\n"
     ]
    },
    {
     "data": {
      "application/vnd.jupyter.widget-view+json": {
       "model_id": "4e0858c97fa94a37b280e974c15b6959",
       "version_major": 2,
       "version_minor": 0
      },
      "text/plain": [
       "  0%|          | 0/7 [00:00<?, ?it/s]"
      ]
     },
     "metadata": {},
     "output_type": "display_data"
    },
    {
     "name": "stderr",
     "output_type": "stream",
     "text": [
      "c:\\Users\\dhksw\\Documents\\work\\PyTorch_practice1\\Lib\\site-packages\\torchvision\\transforms\\functional.py:1603: UserWarning: The default value of the antialias parameter of all the resizing transforms (Resize(), RandomResizedCrop(), etc.) will change from None to True in v0.17, in order to be consistent across the PIL and Tensor backends. To suppress this warning, directly pass antialias=True (recommended, future default), antialias=None (current default, which means False for Tensors and True for PIL), or antialias=False (only works on Tensors - PIL will still use antialiasing). This also applies if you are using the inference transforms from the models weights: update the call to weights.transforms(antialias=True).\n",
      "  warnings.warn(\n"
     ]
    },
    {
     "name": "stdout",
     "output_type": "stream",
     "text": [
      "Epoch [3] Train Loss: [1.58877] Train Accuracy: [0.16471]\n",
      "\n",
      "Model Saved.\n"
     ]
    },
    {
     "data": {
      "application/vnd.jupyter.widget-view+json": {
       "model_id": "3af70385486d470d9e644fd87c2d7fce",
       "version_major": 2,
       "version_minor": 0
      },
      "text/plain": [
       "  0%|          | 0/7 [00:00<?, ?it/s]"
      ]
     },
     "metadata": {},
     "output_type": "display_data"
    },
    {
     "name": "stderr",
     "output_type": "stream",
     "text": [
      "c:\\Users\\dhksw\\Documents\\work\\PyTorch_practice1\\Lib\\site-packages\\torchvision\\transforms\\functional.py:1603: UserWarning: The default value of the antialias parameter of all the resizing transforms (Resize(), RandomResizedCrop(), etc.) will change from None to True in v0.17, in order to be consistent across the PIL and Tensor backends. To suppress this warning, directly pass antialias=True (recommended, future default), antialias=None (current default, which means False for Tensors and True for PIL), or antialias=False (only works on Tensors - PIL will still use antialiasing). This also applies if you are using the inference transforms from the models weights: update the call to weights.transforms(antialias=True).\n",
      "  warnings.warn(\n"
     ]
    },
    {
     "name": "stdout",
     "output_type": "stream",
     "text": [
      "Epoch [4] Train Loss: [1.25517] Train Accuracy: [0.24706]\n",
      "\n",
      "Model Saved.\n"
     ]
    },
    {
     "data": {
      "application/vnd.jupyter.widget-view+json": {
       "model_id": "aec7b6ad6efc4e8b9bf4d29232b93164",
       "version_major": 2,
       "version_minor": 0
      },
      "text/plain": [
       "  0%|          | 0/7 [00:00<?, ?it/s]"
      ]
     },
     "metadata": {},
     "output_type": "display_data"
    },
    {
     "name": "stderr",
     "output_type": "stream",
     "text": [
      "c:\\Users\\dhksw\\Documents\\work\\PyTorch_practice1\\Lib\\site-packages\\torchvision\\transforms\\functional.py:1603: UserWarning: The default value of the antialias parameter of all the resizing transforms (Resize(), RandomResizedCrop(), etc.) will change from None to True in v0.17, in order to be consistent across the PIL and Tensor backends. To suppress this warning, directly pass antialias=True (recommended, future default), antialias=None (current default, which means False for Tensors and True for PIL), or antialias=False (only works on Tensors - PIL will still use antialiasing). This also applies if you are using the inference transforms from the models weights: update the call to weights.transforms(antialias=True).\n",
      "  warnings.warn(\n"
     ]
    },
    {
     "name": "stdout",
     "output_type": "stream",
     "text": [
      "Epoch [5] Train Loss: [1.28250] Train Accuracy: [0.24706]\n",
      "\n"
     ]
    },
    {
     "data": {
      "application/vnd.jupyter.widget-view+json": {
       "model_id": "39f6740c49d94cb8aa9d04def118da6b",
       "version_major": 2,
       "version_minor": 0
      },
      "text/plain": [
       "  0%|          | 0/7 [00:00<?, ?it/s]"
      ]
     },
     "metadata": {},
     "output_type": "display_data"
    },
    {
     "name": "stderr",
     "output_type": "stream",
     "text": [
      "c:\\Users\\dhksw\\Documents\\work\\PyTorch_practice1\\Lib\\site-packages\\torchvision\\transforms\\functional.py:1603: UserWarning: The default value of the antialias parameter of all the resizing transforms (Resize(), RandomResizedCrop(), etc.) will change from None to True in v0.17, in order to be consistent across the PIL and Tensor backends. To suppress this warning, directly pass antialias=True (recommended, future default), antialias=None (current default, which means False for Tensors and True for PIL), or antialias=False (only works on Tensors - PIL will still use antialiasing). This also applies if you are using the inference transforms from the models weights: update the call to weights.transforms(antialias=True).\n",
      "  warnings.warn(\n"
     ]
    },
    {
     "name": "stdout",
     "output_type": "stream",
     "text": [
      "Epoch [6] Train Loss: [1.18358] Train Accuracy: [0.24706]\n",
      "\n"
     ]
    },
    {
     "data": {
      "application/vnd.jupyter.widget-view+json": {
       "model_id": "9405d25d95ee414ea935a11771a6ff85",
       "version_major": 2,
       "version_minor": 0
      },
      "text/plain": [
       "  0%|          | 0/7 [00:00<?, ?it/s]"
      ]
     },
     "metadata": {},
     "output_type": "display_data"
    },
    {
     "name": "stderr",
     "output_type": "stream",
     "text": [
      "c:\\Users\\dhksw\\Documents\\work\\PyTorch_practice1\\Lib\\site-packages\\torchvision\\transforms\\functional.py:1603: UserWarning: The default value of the antialias parameter of all the resizing transforms (Resize(), RandomResizedCrop(), etc.) will change from None to True in v0.17, in order to be consistent across the PIL and Tensor backends. To suppress this warning, directly pass antialias=True (recommended, future default), antialias=None (current default, which means False for Tensors and True for PIL), or antialias=False (only works on Tensors - PIL will still use antialiasing). This also applies if you are using the inference transforms from the models weights: update the call to weights.transforms(antialias=True).\n",
      "  warnings.warn(\n"
     ]
    },
    {
     "name": "stdout",
     "output_type": "stream",
     "text": [
      "Epoch [7] Train Loss: [1.22368] Train Accuracy: [0.24706]\n",
      "\n"
     ]
    },
    {
     "data": {
      "application/vnd.jupyter.widget-view+json": {
       "model_id": "88f143e5567a4535b42910c24c17e08a",
       "version_major": 2,
       "version_minor": 0
      },
      "text/plain": [
       "  0%|          | 0/7 [00:00<?, ?it/s]"
      ]
     },
     "metadata": {},
     "output_type": "display_data"
    },
    {
     "name": "stderr",
     "output_type": "stream",
     "text": [
      "c:\\Users\\dhksw\\Documents\\work\\PyTorch_practice1\\Lib\\site-packages\\torchvision\\transforms\\functional.py:1603: UserWarning: The default value of the antialias parameter of all the resizing transforms (Resize(), RandomResizedCrop(), etc.) will change from None to True in v0.17, in order to be consistent across the PIL and Tensor backends. To suppress this warning, directly pass antialias=True (recommended, future default), antialias=None (current default, which means False for Tensors and True for PIL), or antialias=False (only works on Tensors - PIL will still use antialiasing). This also applies if you are using the inference transforms from the models weights: update the call to weights.transforms(antialias=True).\n",
      "  warnings.warn(\n"
     ]
    },
    {
     "name": "stdout",
     "output_type": "stream",
     "text": [
      "Epoch [8] Train Loss: [1.07356] Train Accuracy: [0.24706]\n",
      "\n"
     ]
    },
    {
     "data": {
      "application/vnd.jupyter.widget-view+json": {
       "model_id": "07aa43d1bbed4a8d82b2fb634d5a6044",
       "version_major": 2,
       "version_minor": 0
      },
      "text/plain": [
       "  0%|          | 0/7 [00:00<?, ?it/s]"
      ]
     },
     "metadata": {},
     "output_type": "display_data"
    },
    {
     "name": "stderr",
     "output_type": "stream",
     "text": [
      "c:\\Users\\dhksw\\Documents\\work\\PyTorch_practice1\\Lib\\site-packages\\torchvision\\transforms\\functional.py:1603: UserWarning: The default value of the antialias parameter of all the resizing transforms (Resize(), RandomResizedCrop(), etc.) will change from None to True in v0.17, in order to be consistent across the PIL and Tensor backends. To suppress this warning, directly pass antialias=True (recommended, future default), antialias=None (current default, which means False for Tensors and True for PIL), or antialias=False (only works on Tensors - PIL will still use antialiasing). This also applies if you are using the inference transforms from the models weights: update the call to weights.transforms(antialias=True).\n",
      "  warnings.warn(\n"
     ]
    },
    {
     "name": "stdout",
     "output_type": "stream",
     "text": [
      "Epoch [9] Train Loss: [1.18199] Train Accuracy: [0.24706]\n",
      "\n"
     ]
    },
    {
     "data": {
      "application/vnd.jupyter.widget-view+json": {
       "model_id": "71bead4a5dd54440a2e04bcb5d93569e",
       "version_major": 2,
       "version_minor": 0
      },
      "text/plain": [
       "  0%|          | 0/7 [00:00<?, ?it/s]"
      ]
     },
     "metadata": {},
     "output_type": "display_data"
    },
    {
     "name": "stderr",
     "output_type": "stream",
     "text": [
      "c:\\Users\\dhksw\\Documents\\work\\PyTorch_practice1\\Lib\\site-packages\\torchvision\\transforms\\functional.py:1603: UserWarning: The default value of the antialias parameter of all the resizing transforms (Resize(), RandomResizedCrop(), etc.) will change from None to True in v0.17, in order to be consistent across the PIL and Tensor backends. To suppress this warning, directly pass antialias=True (recommended, future default), antialias=None (current default, which means False for Tensors and True for PIL), or antialias=False (only works on Tensors - PIL will still use antialiasing). This also applies if you are using the inference transforms from the models weights: update the call to weights.transforms(antialias=True).\n",
      "  warnings.warn(\n"
     ]
    },
    {
     "name": "stdout",
     "output_type": "stream",
     "text": [
      "Epoch [10] Train Loss: [0.87367] Train Accuracy: [0.24706]\n",
      "\n"
     ]
    },
    {
     "data": {
      "image/png": "[encoded data removed]",
      "text/plain": [
       "<Figure size 1000x500 with 1 Axes>"
      ]
     },
     "metadata": {},
     "output_type": "display_data"
    }
   ],
   "source": [
    "model = train_model().to(device)\n",
    "\n",
    "optimizer = torch.optim.SGD(params=model.parameters(), lr=CFG[\"LEARNING_RATE\"])\n",
    "scheduler = None\n",
    "# scheduler = torch.optim.lr_scheduler.StepLR(optimizer, step_size=5, gamma=0.9)\n",
    "\n",
    "train(model, optimizer, train_loader, scheduler, device)"
   ]
  },
  {
   "cell_type": "code",
   "execution_count": 30,
   "metadata": {},
   "outputs": [
    {
     "name": "stdout",
     "output_type": "stream",
     "text": [
      "Test Accuracy: 0.14286\n"
     ]
    },
    {
     "name": "stderr",
     "output_type": "stream",
     "text": [
      "c:\\Users\\dhksw\\Documents\\work\\PyTorch_practice1\\Lib\\site-packages\\torchvision\\transforms\\functional.py:1603: UserWarning: The default value of the antialias parameter of all the resizing transforms (Resize(), RandomResizedCrop(), etc.) will change from None to True in v0.17, in order to be consistent across the PIL and Tensor backends. To suppress this warning, directly pass antialias=True (recommended, future default), antialias=None (current default, which means False for Tensors and True for PIL), or antialias=False (only works on Tensors - PIL will still use antialiasing). This also applies if you are using the inference transforms from the models weights: update the call to weights.transforms(antialias=True).\n",
      "  warnings.warn(\n"
     ]
    }
   ],
   "source": [
    "checkpoint = torch.load('./saved/best_model.pth')\n",
    "model = train_model().to(device)\n",
    "model.load_state_dict(checkpoint)\n",
    "\n",
    "accuracy = evaluate(model, test_loader, device)\n",
    "print(f'Test Accuracy: {accuracy:.5f}')"
   ]
  }
 ],
 "metadata": {
  "kernelspec": {
   "display_name": "PyTorch_practice1",
   "language": "python",
   "name": "pytorch_practice1"
  },
  "language_info": {
   "codemirror_mode": {
    "name": "ipython",
    "version": 3
   },
   "file_extension": ".py",
   "mimetype": "text/x-python",
   "name": "python",
   "nbconvert_exporter": "python",
   "pygments_lexer": "ipython3",
   "version": "3.11.6"
  }
 },
 "nbformat": 4,
 "nbformat_minor": 2
}
